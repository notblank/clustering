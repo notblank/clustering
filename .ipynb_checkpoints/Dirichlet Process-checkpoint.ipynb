{
 "cells": [
  {
   "cell_type": "code",
   "execution_count": 1,
   "metadata": {},
   "outputs": [
    {
     "ename": "ERROR",
     "evalue": "Error in library(DPpackage): there is no package called 'DPpackage'\n",
     "output_type": "error",
     "traceback": [
      "Error in library(DPpackage): there is no package called 'DPpackage'\nTraceback:\n",
      "1. library(DPpackage)",
      "2. stop(txt, domain = NA)"
     ]
    }
   ],
   "source": [
    "library(tidyverse)"
   ]
  },
  {
   "cell_type": "code",
   "execution_count": null,
   "metadata": {
    "collapsed": true
   },
   "outputs": [],
   "source": []
  }
 ],
 "metadata": {
  "kernelspec": {
   "display_name": "R 3.3",
   "language": "R",
   "name": "ir33"
  }
 },
 "nbformat": 4,
 "nbformat_minor": 2
}
